{
 "cells": [
  {
   "cell_type": "code",
   "execution_count": 1,
   "id": "d198e75a",
   "metadata": {},
   "outputs": [
    {
     "name": "stderr",
     "output_type": "stream",
     "text": [
      "[nltk_data] Downloading package punkt to /home/nidhi/nltk_data...\n",
      "[nltk_data]   Package punkt is already up-to-date!\n",
      "[nltk_data] Downloading package stopwords to /home/nidhi/nltk_data...\n",
      "[nltk_data]   Package stopwords is already up-to-date!\n",
      "[nltk_data] Downloading package averaged_perceptron_tagger to\n",
      "[nltk_data]     /home/nidhi/nltk_data...\n",
      "[nltk_data]   Package averaged_perceptron_tagger is already up-to-\n",
      "[nltk_data]       date!\n"
     ]
    },
    {
     "data": {
      "text/plain": [
       "['As a UI designer, I want to report to the Agencies about user testing, so that they are aware of their contributions to making Broker a better UX.',\n",
       " 'As a Researcher, I want an app that create proxy Data Packages for well know and reliable data, sources, so that I can load high quality data using Data Package tooling.',\n",
       " 'As a participant, I want to change my estimate as long as the draw has not been completed, so that I can change my mind.',\n",
       " \"As a depositor, I want to have metadata automatically filled from other University systems and remembered from previous deposits, so that I don't have to waste time reentering the same information.\"]"
      ]
     },
     "execution_count": 1,
     "metadata": {},
     "output_type": "execute_result"
    }
   ],
   "source": [
    "import nltk\n",
    "from nltk.corpus import stopwords\n",
    "from nltk.tokenize import word_tokenize\n",
    "from nltk.tokenize import sent_tokenize\n",
    "from nltk import pos_tag\n",
    "nltk.download('punkt')\n",
    "nltk.download('stopwords')\n",
    "nltk.download('averaged_perceptron_tagger')\n",
    "with open('../data/sample.txt') as file:\n",
    "    sample = file.read()\n",
    "sentence_spans = sent_tokenize(sample)\n",
    "sentence_spans"
   ]
  },
  {
   "cell_type": "code",
   "execution_count": 2,
   "id": "8fe137cc",
   "metadata": {
    "scrolled": false
   },
   "outputs": [
    {
     "name": "stdout",
     "output_type": "stream",
     "text": [
      "Sentence 1:\n",
      "Original: As a UI designer, I want to report to the Agencies about user testing, so that they are aware of their contributions to making Broker a better UX.\n",
      "Filtered: ['ui', 'designer', 'want', 'report', 'agencies', 'user', 'testing', 'aware', 'contributions', 'making', 'broker', 'better', 'ux']\n",
      "POS Tags: [('ui', 'JJ'), ('designer', 'NN'), ('want', 'VBP'), ('report', 'NN'), ('agencies', 'NNS'), ('user', 'VBP'), ('testing', 'VBG'), ('aware', 'JJ'), ('contributions', 'NNS'), ('making', 'VBG'), ('broker', 'NN'), ('better', 'RBR'), ('ux', 'NN')]\n",
      "\n",
      "Sentence 2:\n",
      "Original: As a Researcher, I want an app that create proxy Data Packages for well know and reliable data, sources, so that I can load high quality data using Data Package tooling.\n",
      "Filtered: ['researcher', 'want', 'app', 'create', 'proxy', 'data', 'packages', 'well', 'know', 'reliable', 'data', 'sources', 'load', 'high', 'quality', 'data', 'using', 'data', 'package', 'tooling']\n",
      "POS Tags: [('researcher', 'NN'), ('want', 'VBP'), ('app', 'JJ'), ('create', 'NN'), ('proxy', 'NN'), ('data', 'NNS'), ('packages', 'NNS'), ('well', 'RB'), ('know', 'VBP'), ('reliable', 'JJ'), ('data', 'NNS'), ('sources', 'NNS'), ('load', 'RB'), ('high', 'JJ'), ('quality', 'NN'), ('data', 'NNS'), ('using', 'VBG'), ('data', 'NNS'), ('package', 'NN'), ('tooling', 'NN')]\n",
      "\n",
      "Sentence 3:\n",
      "Original: As a participant, I want to change my estimate as long as the draw has not been completed, so that I can change my mind.\n",
      "Filtered: ['participant', 'want', 'change', 'estimate', 'long', 'draw', 'completed', 'change', 'mind']\n",
      "POS Tags: [('participant', 'NN'), ('want', 'VBP'), ('change', 'NN'), ('estimate', 'NN'), ('long', 'JJ'), ('draw', 'NN'), ('completed', 'VBN'), ('change', 'NN'), ('mind', 'NN')]\n",
      "\n",
      "Sentence 4:\n",
      "Original: As a depositor, I want to have metadata automatically filled from other University systems and remembered from previous deposits, so that I don't have to waste time reentering the same information.\n",
      "Filtered: ['depositor', 'want', 'metadata', 'automatically', 'filled', 'university', 'systems', 'remembered', 'previous', 'deposits', 'waste', 'time', 'reentering', 'information']\n",
      "POS Tags: [('depositor', 'NN'), ('want', 'VBP'), ('metadata', 'NNS'), ('automatically', 'RB'), ('filled', 'VBN'), ('university', 'NN'), ('systems', 'NNS'), ('remembered', 'VBD'), ('previous', 'JJ'), ('deposits', 'NNS'), ('waste', 'NN'), ('time', 'NN'), ('reentering', 'VBG'), ('information', 'NN')]\n",
      "\n"
     ]
    },
    {
     "name": "stderr",
     "output_type": "stream",
     "text": [
      "[nltk_data] Downloading package averaged_perceptron_tagger_eng to\n",
      "[nltk_data]     /home/nidhi/nltk_data...\n",
      "[nltk_data]   Package averaged_perceptron_tagger_eng is already up-to-\n",
      "[nltk_data]       date!\n"
     ]
    }
   ],
   "source": [
    "import string\n",
    "nltk.download('averaged_perceptron_tagger_eng')\n",
    "stop_words = set(stopwords.words('english'))\n",
    "processed_sentences = []\n",
    "for sentence in sentence_spans:\n",
    "    words = word_tokenize(sentence)\n",
    "    filtered_words = [word.lower() \n",
    "                      for word in words \n",
    "                      if word.isalnum() and word.lower() not in stop_words]\n",
    "    pos_tags = pos_tag(filtered_words)\n",
    "    processed_sentences.append({\n",
    "        \"original_sentence\":sentence,\n",
    "        \"filtered_words\":filtered_words,\n",
    "        \"pos_tags\":pos_tags\n",
    "    })\n",
    "\n",
    "for idx, result in enumerate(processed_sentences, start=1):\n",
    "    print(f\"Sentence {idx}:\")\n",
    "    print(f\"Original: {result['original_sentence']}\")\n",
    "    print(f\"Filtered: {result['filtered_words']}\")\n",
    "    print(f\"POS Tags: {result['pos_tags']}\")\n",
    "    print()"
   ]
  },
  {
   "cell_type": "code",
   "execution_count": null,
   "id": "22899ad4",
   "metadata": {},
   "outputs": [],
   "source": []
  }
 ],
 "metadata": {
  "kernelspec": {
   "display_name": "Python (nlp1)",
   "language": "python",
   "name": "nlp1"
  },
  "language_info": {
   "codemirror_mode": {
    "name": "ipython",
    "version": 3
   },
   "file_extension": ".py",
   "mimetype": "text/x-python",
   "name": "python",
   "nbconvert_exporter": "python",
   "pygments_lexer": "ipython3",
   "version": "3.12.3"
  }
 },
 "nbformat": 4,
 "nbformat_minor": 5
}
